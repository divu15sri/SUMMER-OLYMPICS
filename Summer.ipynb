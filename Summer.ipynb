{
  "nbformat": 4,
  "nbformat_minor": 0,
  "metadata": {
    "colab": {
      "name": "Summer.ipynb",
      "provenance": [],
      "collapsed_sections": []
    },
    "kernelspec": {
      "name": "python3",
      "display_name": "Python 3"
    },
    "language_info": {
      "name": "python"
    }
  },
  "cells": [
    {
      "cell_type": "markdown",
      "metadata": {
        "id": "ZdVWTHrmottD"
      },
      "source": [
        "#Summer Olympics Data Analysis Assignment"
      ]
    },
    {
      "cell_type": "markdown",
      "metadata": {
        "id": "ZwoqlmlxoJqE"
      },
      "source": [
        "1. **In how many cities Summer Olympics is held so far?**"
      ]
    },
    {
      "cell_type": "code",
      "metadata": {
        "colab": {
          "base_uri": "https://localhost:8080/"
        },
        "id": "_TpGahzipBrL",
        "outputId": "372b329e-62a7-42d8-b5b2-db7ad5f3f336"
      },
      "source": [
        "import pandas as pd\n",
        "import numpy as np\n",
        "import matplotlib.pyplot as plt\n",
        "df=pd.read_csv(\"summer.csv\")\n",
        "df.head()\n",
        "\n",
        "df['City'].nunique()"
      ],
      "execution_count": 1,
      "outputs": [
        {
          "output_type": "execute_result",
          "data": {
            "text/plain": [
              "22"
            ]
          },
          "metadata": {},
          "execution_count": 1
        }
      ]
    },
    {
      "cell_type": "code",
      "metadata": {
        "colab": {
          "base_uri": "https://localhost:8080/"
        },
        "id": "LpxDfn1SqTES",
        "outputId": "67f157bf-c0a9-49c7-8229-1754bfec180c"
      },
      "source": [
        "df['City'].unique()"
      ],
      "execution_count": 2,
      "outputs": [
        {
          "output_type": "execute_result",
          "data": {
            "text/plain": [
              "array(['Athens', 'Paris', 'St Louis', 'London', 'Stockholm', 'Antwerp',\n",
              "       'Amsterdam', 'Los Angeles', 'Berlin', 'Helsinki',\n",
              "       'Melbourne / Stockholm', 'Rome', 'Tokyo', 'Mexico', 'Munich',\n",
              "       'Montreal', 'Moscow', 'Seoul', 'Barcelona', 'Atlanta', 'Sydney',\n",
              "       'Beijing'], dtype=object)"
            ]
          },
          "metadata": {},
          "execution_count": 2
        }
      ]
    },
    {
      "cell_type": "markdown",
      "metadata": {
        "id": "w-f50_xwpCo5"
      },
      "source": [
        "**2. Which sport is having most number of Gold Medals so far? (Top 5)**"
      ]
    },
    {
      "cell_type": "code",
      "metadata": {
        "colab": {
          "base_uri": "https://localhost:8080/",
          "height": 431
        },
        "id": "N9Lu7fY7pJ48",
        "outputId": "fc1d10dd-a745-4f39-cb17-c7f54b0ea55e"
      },
      "source": [
        "df1=df[df['Medal']==\"Gold\"].Sport.value_counts().head()\n",
        "\n",
        "print(df1)\n",
        "print(df1.plot.bar())"
      ],
      "execution_count": 30,
      "outputs": [
        {
          "output_type": "stream",
          "name": "stdout",
          "text": [
            "Aquatics      1421\n",
            "Athletics     1215\n",
            "Rowing         890\n",
            "Gymnastics     820\n",
            "Fencing        552\n",
            "Name: Sport, dtype: int64\n",
            "AxesSubplot(0.125,0.125;0.775x0.755)\n"
          ]
        },
        {
          "output_type": "display_data",
          "data": {
            "image/png": "[encoded data removed]",
            "text/plain": [
              "<Figure size 432x288 with 1 Axes>"
            ]
          },
          "metadata": {
            "needs_background": "light"
          }
        }
      ]
    },
    {
      "cell_type": "markdown",
      "metadata": {
        "id": "GRZueyJepKve"
      },
      "source": [
        "**3. Which sport is having most number of medals so far? (Top 5)**"
      ]
    },
    {
      "cell_type": "code",
      "metadata": {
        "colab": {
          "base_uri": "https://localhost:8080/",
          "height": 499
        },
        "id": "rDW8yHf9pSkC",
        "outputId": "d39549e3-80c1-405f-db39-0eec0860619a"
      },
      "source": [
        "data=[]\n",
        "for Sport in df['Sport'].unique():\n",
        "  data.append([Sport,len(df[df['Sport']== Sport])])\n",
        "data=pd.DataFrame(data, columns= ['Sport','Medal'])\n",
        "data=data.sort_values(by ='Medal', ascending= False).head()\n",
        "print(data)\n",
        "data.plot(x= 'Sport', y='Medal', kind='bar' ,figsize=(5,5)  ) "
      ],
      "execution_count": 19,
      "outputs": [
        {
          "output_type": "stream",
          "name": "stdout",
          "text": [
            "         Sport  Medal\n",
            "0     Aquatics   4170\n",
            "1    Athletics   3638\n",
            "17      Rowing   2667\n",
            "4   Gymnastics   2307\n",
            "3      Fencing   1613\n"
          ]
        },
        {
          "output_type": "execute_result",
          "data": {
            "text/plain": [
              "<matplotlib.axes._subplots.AxesSubplot at 0x7f1b1cee80d0>"
            ]
          },
          "metadata": {},
          "execution_count": 19
        },
        {
          "output_type": "display_data",
          "data": {
            "image/png": "[encoded data removed]",
            "text/plain": [
              "<Figure size 360x360 with 1 Axes>"
            ]
          },
          "metadata": {
            "needs_background": "light"
          }
        }
      ]
    },
    {
      "cell_type": "markdown",
      "metadata": {
        "id": "-elcr2IepUC0"
      },
      "source": [
        "**4. Which player has won most number of medals? (Top 5)**"
      ]
    },
    {
      "cell_type": "code",
      "metadata": {
        "colab": {
          "base_uri": "https://localhost:8080/",
          "height": 521
        },
        "id": "Uv_oGkiXpYQI",
        "outputId": "5a79391c-9ba7-476f-94b3-a848fa951331"
      },
      "source": [
        "df1=df.groupby('Athlete').count()['Medal'].sort_values(ascending = False).head()\n",
        "print(df1)\n",
        "print(df1.plot.bar())"
      ],
      "execution_count": 24,
      "outputs": [
        {
          "output_type": "stream",
          "name": "stdout",
          "text": [
            "Athlete\n",
            "PHELPS, Michael         22\n",
            "LATYNINA, Larisa        18\n",
            "ANDRIANOV, Nikolay      15\n",
            "MANGIAROTTI, Edoardo    13\n",
            "SHAKHLIN, Boris         13\n",
            "Name: Medal, dtype: int64\n",
            "AxesSubplot(0.125,0.125;0.775x0.755)\n"
          ]
        },
        {
          "output_type": "display_data",
          "data": {
            "image/png": "[encoded data removed]",
            "text/plain": [
              "<Figure size 432x288 with 1 Axes>"
            ]
          },
          "metadata": {
            "needs_background": "light"
          }
        }
      ]
    },
    {
      "cell_type": "markdown",
      "metadata": {
        "id": "dvjBHzu0pZbT"
      },
      "source": [
        "**5. Which player has won most number Gold Medals of medals? (Top 5)**"
      ]
    },
    {
      "cell_type": "code",
      "metadata": {
        "colab": {
          "base_uri": "https://localhost:8080/",
          "height": 457
        },
        "id": "X_buFjpvphZd",
        "outputId": "92d0f501-cd2d-40e2-c04c-ace8b9d475d9"
      },
      "source": [
        "df1=df[df['Medal']==\"Gold\"].Athlete.value_counts().head()\n",
        "print (df1)\n",
        "print(df1.plot.bar())"
      ],
      "execution_count": 32,
      "outputs": [
        {
          "output_type": "stream",
          "name": "stdout",
          "text": [
            "PHELPS, Michael     18\n",
            "LEWIS, Carl          9\n",
            "NURMI, Paavo         9\n",
            "LATYNINA, Larisa     9\n",
            "SPITZ, Mark          9\n",
            "Name: Athlete, dtype: int64\n",
            "AxesSubplot(0.125,0.125;0.775x0.755)\n"
          ]
        },
        {
          "output_type": "display_data",
          "data": {
            "image/png": "[encoded data removed]",
            "text/plain": [
              "<Figure size 432x288 with 1 Axes>"
            ]
          },
          "metadata": {
            "needs_background": "light"
          }
        }
      ]
    },
    {
      "cell_type": "markdown",
      "metadata": {
        "id": "1LetqBrlpiln"
      },
      "source": [
        "**6. In which year India won first Gold Medal in Summer Olympics?**"
      ]
    },
    {
      "cell_type": "code",
      "metadata": {
        "colab": {
          "base_uri": "https://localhost:8080/"
        },
        "id": "jd7-oYA1pnCD",
        "outputId": "fd953803-0dc7-44aa-997e-ee5c941cd4d7"
      },
      "source": [
        "df1=df[df.Medal==\"Gold\"]\n",
        "min(df1[df1.Country==\"IND\"].Year)"
      ],
      "execution_count": 17,
      "outputs": [
        {
          "output_type": "execute_result",
          "data": {
            "text/plain": [
              "1928"
            ]
          },
          "metadata": {},
          "execution_count": 17
        }
      ]
    },
    {
      "cell_type": "markdown",
      "metadata": {
        "id": "yy7nXb7rpo09"
      },
      "source": [
        "**7. Which event is most popular in terms on number of players? (Top 5)**"
      ]
    },
    {
      "cell_type": "code",
      "metadata": {
        "colab": {
          "base_uri": "https://localhost:8080/",
          "height": 493
        },
        "id": "1fjsWzFQpt-f",
        "outputId": "26ff7dda-0448-42e9-94e0-93a0e74121a8"
      },
      "source": [
        "df1=df.groupby('Event').count()['Athlete'].sort_values(ascending = False).head()\n",
        "print (df1)\n",
        "print(df1.plot.bar())"
      ],
      "execution_count": 28,
      "outputs": [
        {
          "output_type": "stream",
          "name": "stdout",
          "text": [
            "Event\n",
            "Football            1497\n",
            "Hockey              1422\n",
            "Team Competition    1147\n",
            "Basketball          1012\n",
            "Handball             973\n",
            "Name: Athlete, dtype: int64\n",
            "AxesSubplot(0.125,0.125;0.775x0.755)\n"
          ]
        },
        {
          "output_type": "display_data",
          "data": {
            "image/png": "[encoded data removed]",
            "text/plain": [
              "<Figure size 432x288 with 1 Axes>"
            ]
          },
          "metadata": {
            "needs_background": "light"
          }
        }
      ]
    },
    {
      "cell_type": "markdown",
      "metadata": {
        "id": "I6gEwzQ3puW0"
      },
      "source": [
        "**8. Which sport is having most female Gold Medalists? (Top 5)**"
      ]
    },
    {
      "cell_type": "code",
      "metadata": {
        "colab": {
          "base_uri": "https://localhost:8080/",
          "height": 431
        },
        "id": "GAzVRDW-pziE",
        "outputId": "4789c777-b2ba-4c88-efdc-ca2d4afb2ae3"
      },
      "source": [
        "df1=df[df.Medal==\"Gold\"]\n",
        "df2=df1[df1.Gender==\"Women\"].Sport.value_counts().head()\n",
        "print (df2)\n",
        "print(df2.plot.bar())"
      ],
      "execution_count": 29,
      "outputs": [
        {
          "output_type": "stream",
          "name": "stdout",
          "text": [
            "Aquatics      589\n",
            "Athletics     389\n",
            "Gymnastics    268\n",
            "Rowing        217\n",
            "Volleyball    166\n",
            "Name: Sport, dtype: int64\n",
            "AxesSubplot(0.125,0.125;0.775x0.755)\n"
          ]
        },
        {
          "output_type": "display_data",
          "data": {
            "image/png": "[encoded data removed]",
            "text/plain": [
              "<Figure size 432x288 with 1 Axes>"
            ]
          },
          "metadata": {
            "needs_background": "light"
          }
        }
      ]
    }
  ]
}